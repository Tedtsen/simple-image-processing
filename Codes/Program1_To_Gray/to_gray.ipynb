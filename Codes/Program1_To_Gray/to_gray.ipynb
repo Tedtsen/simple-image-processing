{
 "cells": [
  {
   "cell_type": "code",
   "execution_count": 1,
   "metadata": {},
   "outputs": [
    {
     "data": {
      "text/plain": [
       "True"
      ]
     },
     "execution_count": 1,
     "metadata": {},
     "output_type": "execute_result"
    }
   ],
   "source": [
    "import cv2\n",
    "import numpy as np\n",
    "\n",
    "img = cv2.imread('lena.tiff')\n",
    "height, width, channel = img.shape\n",
    "\n",
    "#re-order color channels from bgr to rgb\n",
    "b,g,r = cv2.split(img)  \n",
    "outputImg = cv2.merge([r,g,b])  \n",
    "\n",
    "#access pixel matrix from 0,0 to height,width\n",
    "for i in range(0,height):\n",
    "    for j in range(0,width):\n",
    "        #0=red channel, 1=green channel, 2=blue channel\n",
    "        y = outputImg[i,j,0]*0.299 + outputImg[i,j,1]*0.587 + outputImg[i,j,2]*0.114\n",
    "        outputImg[i,j,:] = y\n",
    "\n",
    "#re-order color channels from rgb to bgr\n",
    "outputImg = cv2.cvtColor(outputImg, cv2.COLOR_RGB2BGR)\n",
    "cv2.imshow('original image', img)\n",
    "cv2.imshow('converted image', outputImg)\n",
    "cv2.waitKey()\n",
    "cv2.destroyAllWindows()\n",
    "cv2.imwrite('assignment.png', outputImg)"
   ]
  },
  {
   "cell_type": "code",
   "execution_count": null,
   "metadata": {},
   "outputs": [],
   "source": []
  }
 ],
 "metadata": {
  "kernelspec": {
   "display_name": "Python 3",
   "language": "python",
   "name": "python3"
  },
  "language_info": {
   "codemirror_mode": {
    "name": "ipython",
    "version": 3
   },
   "file_extension": ".py",
   "mimetype": "text/x-python",
   "name": "python",
   "nbconvert_exporter": "python",
   "pygments_lexer": "ipython3",
   "version": "3.7.3"
  }
 },
 "nbformat": 4,
 "nbformat_minor": 2
}
